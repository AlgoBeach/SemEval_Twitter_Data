{
 "cells": [
  {
   "cell_type": "code",
   "execution_count": 27,
   "metadata": {
    "collapsed": true
   },
   "outputs": [],
   "source": [
    "%matplotlib inline\n",
    "import matplotlib.pyplot as plt\n",
    "import pandas as pd\n",
    "from IPython.display import display, HTML"
   ]
  },
  {
   "cell_type": "code",
   "execution_count": 2,
   "metadata": {
    "collapsed": true
   },
   "outputs": [],
   "source": [
    "GOLD = \"data/processed/gold/\"\n",
    "TEST = \"data/processed/input/\""
   ]
  },
  {
   "cell_type": "code",
   "execution_count": 3,
   "metadata": {
    "collapsed": true
   },
   "outputs": [],
   "source": [
    "dev = \"data/processed/gold/dev/100_topics_100_tweets.sentence-three-point.subtask-A.dev.gold.txt\"\n",
    "devtest = \"data/processed/gold/devtest/100_topics_100_tweets.sentence-three-point.subtask-A.devtest.gold.txt\"\n",
    "train = \"data/processed/gold/train/100_topics_100_tweets.sentence-three-point.subtask-A.train.gold.txt\""
   ]
  },
  {
   "cell_type": "code",
   "execution_count": 4,
   "metadata": {
    "collapsed": true
   },
   "outputs": [],
   "source": [
    "df = pd.read_csv(train, header=None, sep=\"\\t\")"
   ]
  },
  {
   "cell_type": "code",
   "execution_count": 23,
   "metadata": {
    "collapsed": false
   },
   "outputs": [
    {
     "data": {
      "text/html": [
       "<div>\n",
       "<table border=\"1\" class=\"dataframe\">\n",
       "  <thead>\n",
       "    <tr style=\"text-align: right;\">\n",
       "      <th></th>\n",
       "      <th>0</th>\n",
       "      <th>1</th>\n",
       "      <th>2</th>\n",
       "    </tr>\n",
       "  </thead>\n",
       "  <tbody>\n",
       "    <tr>\n",
       "      <th>0</th>\n",
       "      <td>628949369883000832</td>\n",
       "      <td>negative</td>\n",
       "      <td>dear @Microsoft the newOoffice for Mac is grea...</td>\n",
       "    </tr>\n",
       "    <tr>\n",
       "      <th>1</th>\n",
       "      <td>628976607420645377</td>\n",
       "      <td>negative</td>\n",
       "      <td>@Microsoft how about you make a system that do...</td>\n",
       "    </tr>\n",
       "    <tr>\n",
       "      <th>2</th>\n",
       "      <td>629023169169518592</td>\n",
       "      <td>negative</td>\n",
       "      <td>Not Available</td>\n",
       "    </tr>\n",
       "    <tr>\n",
       "      <th>3</th>\n",
       "      <td>629179223232479232</td>\n",
       "      <td>negative</td>\n",
       "      <td>Not Available</td>\n",
       "    </tr>\n",
       "    <tr>\n",
       "      <th>4</th>\n",
       "      <td>629186282179153920</td>\n",
       "      <td>neutral</td>\n",
       "      <td>If I make a game as a #windows10 Universal App...</td>\n",
       "    </tr>\n",
       "  </tbody>\n",
       "</table>\n",
       "</div>"
      ],
      "text/plain": [
       "                    0         1  \\\n",
       "0  628949369883000832  negative   \n",
       "1  628976607420645377  negative   \n",
       "2  629023169169518592  negative   \n",
       "3  629179223232479232  negative   \n",
       "4  629186282179153920   neutral   \n",
       "\n",
       "                                                   2  \n",
       "0  dear @Microsoft the newOoffice for Mac is grea...  \n",
       "1  @Microsoft how about you make a system that do...  \n",
       "2                                      Not Available  \n",
       "3                                      Not Available  \n",
       "4  If I make a game as a #windows10 Universal App...  "
      ]
     },
     "metadata": {},
     "output_type": "display_data"
    }
   ],
   "source": [
    "display(df.head())"
   ]
  },
  {
   "cell_type": "code",
   "execution_count": 9,
   "metadata": {
    "collapsed": false
   },
   "outputs": [
    {
     "name": "stdout",
     "output_type": "stream",
     "text": [
      "Data shape: 6000, 3\n",
      "Data per label:\n",
      "positive    3094\n",
      "neutral     2043\n",
      "negative     863\n",
      "dtype: int64\n"
     ]
    }
   ],
   "source": [
    "print \"Data shape: %s, %s\" % df.shape\n",
    "print \"Data per label:\\n%s\" % df[1].value_counts()"
   ]
  },
  {
   "cell_type": "code",
   "execution_count": 13,
   "metadata": {
    "collapsed": false
   },
   "outputs": [],
   "source": [
    "df_valid = df[df[2] != \"Not Available\"].copy()"
   ]
  },
  {
   "cell_type": "code",
   "execution_count": 14,
   "metadata": {
    "collapsed": false
   },
   "outputs": [
    {
     "name": "stdout",
     "output_type": "stream",
     "text": [
      "Valid data shape: 5366, 3\n",
      "Valid data per label:\n",
      "positive    2757\n",
      "neutral     1844\n",
      "negative     765\n",
      "dtype: int64\n"
     ]
    }
   ],
   "source": [
    "print \"Valid data shape: %s, %s\" % df_valid.shape\n",
    "print \"Valid data per label:\\n%s\" % df_valid[1].value_counts()"
   ]
  },
  {
   "cell_type": "code",
   "execution_count": 32,
   "metadata": {
    "collapsed": false
   },
   "outputs": [
    {
     "data": {
      "text/html": [
       "<h3>Printing details for file: data/processed/gold/dev/100_topics_100_tweets.sentence-three-point.subtask-A.dev.gold.txt</h3>"
      ],
      "text/plain": [
       "<IPython.core.display.HTML object>"
      ]
     },
     "metadata": {},
     "output_type": "display_data"
    },
    {
     "data": {
      "text/html": [
       "<div>\n",
       "<table border=\"1\" class=\"dataframe\">\n",
       "  <thead>\n",
       "    <tr style=\"text-align: right;\">\n",
       "      <th></th>\n",
       "      <th>0</th>\n",
       "      <th>1</th>\n",
       "      <th>2</th>\n",
       "    </tr>\n",
       "  </thead>\n",
       "  <tbody>\n",
       "    <tr>\n",
       "      <th>0</th>\n",
       "      <td>638060586258038784</td>\n",
       "      <td>neutral</td>\n",
       "      <td>05 Beat it - Michael Jackson - Thriller (25th ...</td>\n",
       "    </tr>\n",
       "    <tr>\n",
       "      <th>1</th>\n",
       "      <td>638061181823922176</td>\n",
       "      <td>positive</td>\n",
       "      <td>Jay Z joins Instagram with nostalgic tribute t...</td>\n",
       "    </tr>\n",
       "    <tr>\n",
       "      <th>2</th>\n",
       "      <td>638083821364244480</td>\n",
       "      <td>neutral</td>\n",
       "      <td>Michael Jackson: Bad 25th Anniversary Edition ...</td>\n",
       "    </tr>\n",
       "    <tr>\n",
       "      <th>3</th>\n",
       "      <td>638091450132078593</td>\n",
       "      <td>positive</td>\n",
       "      <td>Not Available</td>\n",
       "    </tr>\n",
       "    <tr>\n",
       "      <th>4</th>\n",
       "      <td>638125563790557184</td>\n",
       "      <td>positive</td>\n",
       "      <td>18th anniv of Princess Diana's death. I still ...</td>\n",
       "    </tr>\n",
       "  </tbody>\n",
       "</table>\n",
       "</div>"
      ],
      "text/plain": [
       "                    0         1  \\\n",
       "0  638060586258038784   neutral   \n",
       "1  638061181823922176  positive   \n",
       "2  638083821364244480   neutral   \n",
       "3  638091450132078593  positive   \n",
       "4  638125563790557184  positive   \n",
       "\n",
       "                                                   2  \n",
       "0  05 Beat it - Michael Jackson - Thriller (25th ...  \n",
       "1  Jay Z joins Instagram with nostalgic tribute t...  \n",
       "2  Michael Jackson: Bad 25th Anniversary Edition ...  \n",
       "3                                      Not Available  \n",
       "4  18th anniv of Princess Diana's death. I still ...  "
      ]
     },
     "metadata": {},
     "output_type": "display_data"
    },
    {
     "name": "stdout",
     "output_type": "stream",
     "text": [
      "Data shape: 2000, 3\n",
      "Data per label:\n",
      "positive    844\n",
      "neutral     765\n",
      "negative    391\n",
      "dtype: int64\n",
      "Valid data shape: 1798, 3\n",
      "Valid data per label:\n",
      "positive    763\n",
      "neutral     682\n",
      "negative    353\n",
      "dtype: int64\n"
     ]
    },
    {
     "data": {
      "text/html": [
       "<h3>Printing details for file: data/processed/gold/devtest/100_topics_100_tweets.sentence-three-point.subtask-A.devtest.gold.txt</h3>"
      ],
      "text/plain": [
       "<IPython.core.display.HTML object>"
      ]
     },
     "metadata": {},
     "output_type": "display_data"
    },
    {
     "data": {
      "text/html": [
       "<div>\n",
       "<table border=\"1\" class=\"dataframe\">\n",
       "  <thead>\n",
       "    <tr style=\"text-align: right;\">\n",
       "      <th></th>\n",
       "      <th>0</th>\n",
       "      <th>1</th>\n",
       "      <th>2</th>\n",
       "    </tr>\n",
       "  </thead>\n",
       "  <tbody>\n",
       "    <tr>\n",
       "      <th>0</th>\n",
       "      <td>637641175948763136</td>\n",
       "      <td>neutral</td>\n",
       "      <td>Not Available</td>\n",
       "    </tr>\n",
       "    <tr>\n",
       "      <th>1</th>\n",
       "      <td>637651487762554881</td>\n",
       "      <td>neutral</td>\n",
       "      <td>@PersonaSoda well yeah, that's third parties. ...</td>\n",
       "    </tr>\n",
       "    <tr>\n",
       "      <th>2</th>\n",
       "      <td>637666734300905472</td>\n",
       "      <td>negative</td>\n",
       "      <td>Not Available</td>\n",
       "    </tr>\n",
       "    <tr>\n",
       "      <th>3</th>\n",
       "      <td>637668142110654468</td>\n",
       "      <td>neutral</td>\n",
       "      <td>@fakethom Have android tab and don't use phone...</td>\n",
       "    </tr>\n",
       "    <tr>\n",
       "      <th>4</th>\n",
       "      <td>637708370129125377</td>\n",
       "      <td>positive</td>\n",
       "      <td>Finally I get my ps4 back I sent it to Sony ca...</td>\n",
       "    </tr>\n",
       "  </tbody>\n",
       "</table>\n",
       "</div>"
      ],
      "text/plain": [
       "                    0         1  \\\n",
       "0  637641175948763136   neutral   \n",
       "1  637651487762554881   neutral   \n",
       "2  637666734300905472  negative   \n",
       "3  637668142110654468   neutral   \n",
       "4  637708370129125377  positive   \n",
       "\n",
       "                                                   2  \n",
       "0                                      Not Available  \n",
       "1  @PersonaSoda well yeah, that's third parties. ...  \n",
       "2                                      Not Available  \n",
       "3  @fakethom Have android tab and don't use phone...  \n",
       "4  Finally I get my ps4 back I sent it to Sony ca...  "
      ]
     },
     "metadata": {},
     "output_type": "display_data"
    },
    {
     "name": "stdout",
     "output_type": "stream",
     "text": [
      "Data shape: 2000, 3\n",
      "Data per label:\n",
      "positive    994\n",
      "neutral     681\n",
      "negative    325\n",
      "dtype: int64\n",
      "Valid data shape: 1774, 3\n",
      "Valid data per label:\n",
      "positive    878\n",
      "neutral     618\n",
      "negative    278\n",
      "dtype: int64\n"
     ]
    },
    {
     "data": {
      "text/html": [
       "<h3>Printing details for file: data/processed/gold/train/100_topics_100_tweets.sentence-three-point.subtask-A.train.gold.txt</h3>"
      ],
      "text/plain": [
       "<IPython.core.display.HTML object>"
      ]
     },
     "metadata": {},
     "output_type": "display_data"
    },
    {
     "data": {
      "text/html": [
       "<div>\n",
       "<table border=\"1\" class=\"dataframe\">\n",
       "  <thead>\n",
       "    <tr style=\"text-align: right;\">\n",
       "      <th></th>\n",
       "      <th>0</th>\n",
       "      <th>1</th>\n",
       "      <th>2</th>\n",
       "    </tr>\n",
       "  </thead>\n",
       "  <tbody>\n",
       "    <tr>\n",
       "      <th>0</th>\n",
       "      <td>628949369883000832</td>\n",
       "      <td>negative</td>\n",
       "      <td>dear @Microsoft the newOoffice for Mac is grea...</td>\n",
       "    </tr>\n",
       "    <tr>\n",
       "      <th>1</th>\n",
       "      <td>628976607420645377</td>\n",
       "      <td>negative</td>\n",
       "      <td>@Microsoft how about you make a system that do...</td>\n",
       "    </tr>\n",
       "    <tr>\n",
       "      <th>2</th>\n",
       "      <td>629023169169518592</td>\n",
       "      <td>negative</td>\n",
       "      <td>Not Available</td>\n",
       "    </tr>\n",
       "    <tr>\n",
       "      <th>3</th>\n",
       "      <td>629179223232479232</td>\n",
       "      <td>negative</td>\n",
       "      <td>Not Available</td>\n",
       "    </tr>\n",
       "    <tr>\n",
       "      <th>4</th>\n",
       "      <td>629186282179153920</td>\n",
       "      <td>neutral</td>\n",
       "      <td>If I make a game as a #windows10 Universal App...</td>\n",
       "    </tr>\n",
       "  </tbody>\n",
       "</table>\n",
       "</div>"
      ],
      "text/plain": [
       "                    0         1  \\\n",
       "0  628949369883000832  negative   \n",
       "1  628976607420645377  negative   \n",
       "2  629023169169518592  negative   \n",
       "3  629179223232479232  negative   \n",
       "4  629186282179153920   neutral   \n",
       "\n",
       "                                                   2  \n",
       "0  dear @Microsoft the newOoffice for Mac is grea...  \n",
       "1  @Microsoft how about you make a system that do...  \n",
       "2                                      Not Available  \n",
       "3                                      Not Available  \n",
       "4  If I make a game as a #windows10 Universal App...  "
      ]
     },
     "metadata": {},
     "output_type": "display_data"
    },
    {
     "name": "stdout",
     "output_type": "stream",
     "text": [
      "Data shape: 6000, 3\n",
      "Data per label:\n",
      "positive    3094\n",
      "neutral     2043\n",
      "negative     863\n",
      "dtype: int64\n",
      "Valid data shape: 5366, 3\n",
      "Valid data per label:\n",
      "positive    2757\n",
      "neutral     1844\n",
      "negative     765\n",
      "dtype: int64\n"
     ]
    }
   ],
   "source": [
    "dev = \"data/processed/gold/dev/100_topics_100_tweets.sentence-three-point.subtask-A.dev.gold.txt\"\n",
    "devtest = \"data/processed/gold/devtest/100_topics_100_tweets.sentence-three-point.subtask-A.devtest.gold.txt\"\n",
    "train = \"data/processed/gold/train/100_topics_100_tweets.sentence-three-point.subtask-A.train.gold.txt\"\n",
    "for filename in [dev, devtest, train]:\n",
    "    display(HTML(\"<h3>Printing details for file: %s</h3>\" % filename))\n",
    "    df = pd.read_csv(filename, header=None, sep=\"\\t\")\n",
    "    display(df.head())\n",
    "    print \"Data shape: %s, %s\" % df.shape\n",
    "    print \"Data per label:\\n%s\" % df[1].value_counts()\n",
    "    df_valid = df[df[2] != \"Not Available\"].copy()\n",
    "    print \"Valid data shape: %s, %s\" % df_valid.shape\n",
    "    print \"Valid data per label:\\n%s\" % df_valid[1].value_counts()"
   ]
  },
  {
   "cell_type": "code",
   "execution_count": 29,
   "metadata": {
    "collapsed": false,
    "scrolled": false
   },
   "outputs": [
    {
     "data": {
      "text/html": [
       "<h3>Printing details for file: data/processed/gold/dev/100_topics_XXX_tweets.topic-two-point.subtask-BD.dev.gold.txt</h3>"
      ],
      "text/plain": [
       "<IPython.core.display.HTML object>"
      ]
     },
     "metadata": {},
     "output_type": "display_data"
    },
    {
     "data": {
      "text/html": [
       "<div>\n",
       "<table border=\"1\" class=\"dataframe\">\n",
       "  <thead>\n",
       "    <tr style=\"text-align: right;\">\n",
       "      <th></th>\n",
       "      <th>0</th>\n",
       "      <th>1</th>\n",
       "      <th>2</th>\n",
       "      <th>3</th>\n",
       "    </tr>\n",
       "  </thead>\n",
       "  <tbody>\n",
       "    <tr>\n",
       "      <th>0</th>\n",
       "      <td>638061181823922176</td>\n",
       "      <td>michael jackson</td>\n",
       "      <td>positive</td>\n",
       "      <td>Jay Z joins Instagram with nostalgic tribute t...</td>\n",
       "    </tr>\n",
       "    <tr>\n",
       "      <th>1</th>\n",
       "      <td>638091450132078593</td>\n",
       "      <td>michael jackson</td>\n",
       "      <td>positive</td>\n",
       "      <td>Not Available</td>\n",
       "    </tr>\n",
       "    <tr>\n",
       "      <th>2</th>\n",
       "      <td>638125563790557184</td>\n",
       "      <td>michael jackson</td>\n",
       "      <td>positive</td>\n",
       "      <td>18th anniv of Princess Diana's death. I still ...</td>\n",
       "    </tr>\n",
       "    <tr>\n",
       "      <th>3</th>\n",
       "      <td>638130776727535617</td>\n",
       "      <td>michael jackson</td>\n",
       "      <td>positive</td>\n",
       "      <td>@oridaganjazz The 1st time I heard Michael Jac...</td>\n",
       "    </tr>\n",
       "    <tr>\n",
       "      <th>4</th>\n",
       "      <td>638134980862828544</td>\n",
       "      <td>michael jackson</td>\n",
       "      <td>positive</td>\n",
       "      <td>'Michael Jackson' appeared on Saturday 29 at t...</td>\n",
       "    </tr>\n",
       "  </tbody>\n",
       "</table>\n",
       "</div>"
      ],
      "text/plain": [
       "                    0                1         2  \\\n",
       "0  638061181823922176  michael jackson  positive   \n",
       "1  638091450132078593  michael jackson  positive   \n",
       "2  638125563790557184  michael jackson  positive   \n",
       "3  638130776727535617  michael jackson  positive   \n",
       "4  638134980862828544  michael jackson  positive   \n",
       "\n",
       "                                                   3  \n",
       "0  Jay Z joins Instagram with nostalgic tribute t...  \n",
       "1                                      Not Available  \n",
       "2  18th anniv of Princess Diana's death. I still ...  \n",
       "3  @oridaganjazz The 1st time I heard Michael Jac...  \n",
       "4  'Michael Jackson' appeared on Saturday 29 at t...  "
      ]
     },
     "metadata": {},
     "output_type": "display_data"
    },
    {
     "name": "stdout",
     "output_type": "stream",
     "text": [
      "Data shape: 1325, 4\n",
      "Data per label:\n",
      "positive    986\n",
      "negative    339\n",
      "dtype: int64\n",
      "Valid data shape: 1193, 4\n",
      "Valid data per label:\n",
      "positive    881\n",
      "negative    312\n",
      "dtype: int64\n"
     ]
    },
    {
     "data": {
      "text/html": [
       "<h3>Printing details for file: data/processed/gold/devtest/100_topics_XXX_tweets.topic-two-point.subtask-BD.devtest.gold.txt</h3>"
      ],
      "text/plain": [
       "<IPython.core.display.HTML object>"
      ]
     },
     "metadata": {},
     "output_type": "display_data"
    },
    {
     "data": {
      "text/html": [
       "<div>\n",
       "<table border=\"1\" class=\"dataframe\">\n",
       "  <thead>\n",
       "    <tr style=\"text-align: right;\">\n",
       "      <th></th>\n",
       "      <th>0</th>\n",
       "      <th>1</th>\n",
       "      <th>2</th>\n",
       "      <th>3</th>\n",
       "    </tr>\n",
       "  </thead>\n",
       "  <tbody>\n",
       "    <tr>\n",
       "      <th>0</th>\n",
       "      <td>637641175948763136</td>\n",
       "      <td>sony</td>\n",
       "      <td>positive</td>\n",
       "      <td>Not Available</td>\n",
       "    </tr>\n",
       "    <tr>\n",
       "      <th>1</th>\n",
       "      <td>637666734300905472</td>\n",
       "      <td>sony</td>\n",
       "      <td>negative</td>\n",
       "      <td>Not Available</td>\n",
       "    </tr>\n",
       "    <tr>\n",
       "      <th>2</th>\n",
       "      <td>637668142110654468</td>\n",
       "      <td>sony</td>\n",
       "      <td>positive</td>\n",
       "      <td>@fakethom Have android tab and don't use phone...</td>\n",
       "    </tr>\n",
       "    <tr>\n",
       "      <th>3</th>\n",
       "      <td>637708370129125377</td>\n",
       "      <td>sony</td>\n",
       "      <td>positive</td>\n",
       "      <td>Finally I get my ps4 back I sent it to Sony ca...</td>\n",
       "    </tr>\n",
       "    <tr>\n",
       "      <th>4</th>\n",
       "      <td>637807521500020737</td>\n",
       "      <td>sony</td>\n",
       "      <td>negative</td>\n",
       "      <td>Not Available</td>\n",
       "    </tr>\n",
       "  </tbody>\n",
       "</table>\n",
       "</div>"
      ],
      "text/plain": [
       "                    0     1         2  \\\n",
       "0  637641175948763136  sony  positive   \n",
       "1  637666734300905472  sony  negative   \n",
       "2  637668142110654468  sony  positive   \n",
       "3  637708370129125377  sony  positive   \n",
       "4  637807521500020737  sony  negative   \n",
       "\n",
       "                                                   3  \n",
       "0                                      Not Available  \n",
       "1                                      Not Available  \n",
       "2  @fakethom Have android tab and don't use phone...  \n",
       "3  Finally I get my ps4 back I sent it to Sony ca...  \n",
       "4                                      Not Available  "
      ]
     },
     "metadata": {},
     "output_type": "display_data"
    },
    {
     "name": "stdout",
     "output_type": "stream",
     "text": [
      "Data shape: 1417, 4\n",
      "Data per label:\n",
      "positive    1153\n",
      "negative     264\n",
      "dtype: int64\n",
      "Valid data shape: 1241, 4\n",
      "Valid data per label:\n",
      "positive    1007\n",
      "negative     234\n",
      "dtype: int64\n"
     ]
    },
    {
     "data": {
      "text/html": [
       "<h3>Printing details for file: data/processed/gold/train/100_topics_XXX_tweets.topic-two-point.subtask-BD.train.gold.txt</h3>"
      ],
      "text/plain": [
       "<IPython.core.display.HTML object>"
      ]
     },
     "metadata": {},
     "output_type": "display_data"
    },
    {
     "data": {
      "text/html": [
       "<div>\n",
       "<table border=\"1\" class=\"dataframe\">\n",
       "  <thead>\n",
       "    <tr style=\"text-align: right;\">\n",
       "      <th></th>\n",
       "      <th>0</th>\n",
       "      <th>1</th>\n",
       "      <th>2</th>\n",
       "      <th>3</th>\n",
       "    </tr>\n",
       "  </thead>\n",
       "  <tbody>\n",
       "    <tr>\n",
       "      <th>0</th>\n",
       "      <td>628949369883000832</td>\n",
       "      <td>@microsoft</td>\n",
       "      <td>negative</td>\n",
       "      <td>dear @Microsoft the newOoffice for Mac is grea...</td>\n",
       "    </tr>\n",
       "    <tr>\n",
       "      <th>1</th>\n",
       "      <td>628976607420645377</td>\n",
       "      <td>@microsoft</td>\n",
       "      <td>negative</td>\n",
       "      <td>@Microsoft how about you make a system that do...</td>\n",
       "    </tr>\n",
       "    <tr>\n",
       "      <th>2</th>\n",
       "      <td>629023169169518592</td>\n",
       "      <td>@microsoft</td>\n",
       "      <td>negative</td>\n",
       "      <td>Not Available</td>\n",
       "    </tr>\n",
       "    <tr>\n",
       "      <th>3</th>\n",
       "      <td>629179223232479232</td>\n",
       "      <td>@microsoft</td>\n",
       "      <td>negative</td>\n",
       "      <td>Not Available</td>\n",
       "    </tr>\n",
       "    <tr>\n",
       "      <th>4</th>\n",
       "      <td>629226490152914944</td>\n",
       "      <td>@microsoft</td>\n",
       "      <td>positive</td>\n",
       "      <td>Microsoft, I may not prefer your gaming branch...</td>\n",
       "    </tr>\n",
       "  </tbody>\n",
       "</table>\n",
       "</div>"
      ],
      "text/plain": [
       "                    0           1         2  \\\n",
       "0  628949369883000832  @microsoft  negative   \n",
       "1  628976607420645377  @microsoft  negative   \n",
       "2  629023169169518592  @microsoft  negative   \n",
       "3  629179223232479232  @microsoft  negative   \n",
       "4  629226490152914944  @microsoft  positive   \n",
       "\n",
       "                                                   3  \n",
       "0  dear @Microsoft the newOoffice for Mac is grea...  \n",
       "1  @Microsoft how about you make a system that do...  \n",
       "2                                      Not Available  \n",
       "3                                      Not Available  \n",
       "4  Microsoft, I may not prefer your gaming branch...  "
      ]
     },
     "metadata": {},
     "output_type": "display_data"
    },
    {
     "name": "stdout",
     "output_type": "stream",
     "text": [
      "Data shape: 4346, 4\n",
      "Data per label:\n",
      "positive    3591\n",
      "negative     755\n",
      "dtype: int64\n",
      "Valid data shape: 3872, 4\n",
      "Valid data per label:\n",
      "positive    3205\n",
      "negative     667\n",
      "dtype: int64\n"
     ]
    }
   ],
   "source": [
    "dev = \"data/processed/gold/dev/100_topics_XXX_tweets.topic-two-point.subtask-BD.dev.gold.txt\"\n",
    "devtest = \"data/processed/gold/devtest/100_topics_XXX_tweets.topic-two-point.subtask-BD.devtest.gold.txt\"\n",
    "train = \"data/processed/gold/train/100_topics_XXX_tweets.topic-two-point.subtask-BD.train.gold.txt\"\n",
    "for filename in [dev, devtest, train]:\n",
    "    display(HTML(\"<h3>Printing details for file: %s</h3>\" % filename))\n",
    "    df = pd.read_csv(filename, header=None, sep=\"\\t\")\n",
    "    display(df.head())\n",
    "    print \"Data shape: %s, %s\" % df.shape\n",
    "    print \"Data per label:\\n%s\" % df[2].value_counts()\n",
    "    df_valid = df[df[3] != \"Not Available\"].copy()\n",
    "    print \"Valid data shape: %s, %s\" % df_valid.shape\n",
    "    print \"Valid data per label:\\n%s\" % df_valid[2].value_counts()"
   ]
  },
  {
   "cell_type": "code",
   "execution_count": 31,
   "metadata": {
    "collapsed": false
   },
   "outputs": [
    {
     "data": {
      "text/html": [
       "<h3>Printing details for file: data/processed/gold/dev/100_topics_100_tweets.topic-five-point.subtask-CE.dev.gold.txt</h3>"
      ],
      "text/plain": [
       "<IPython.core.display.HTML object>"
      ]
     },
     "metadata": {},
     "output_type": "display_data"
    },
    {
     "data": {
      "text/html": [
       "<div>\n",
       "<table border=\"1\" class=\"dataframe\">\n",
       "  <thead>\n",
       "    <tr style=\"text-align: right;\">\n",
       "      <th></th>\n",
       "      <th>0</th>\n",
       "      <th>1</th>\n",
       "      <th>2</th>\n",
       "      <th>3</th>\n",
       "    </tr>\n",
       "  </thead>\n",
       "  <tbody>\n",
       "    <tr>\n",
       "      <th>0</th>\n",
       "      <td>638060586258038784</td>\n",
       "      <td>michael jackson</td>\n",
       "      <td>0</td>\n",
       "      <td>05 Beat it - Michael Jackson - Thriller (25th ...</td>\n",
       "    </tr>\n",
       "    <tr>\n",
       "      <th>1</th>\n",
       "      <td>638061181823922176</td>\n",
       "      <td>michael jackson</td>\n",
       "      <td>1</td>\n",
       "      <td>Jay Z joins Instagram with nostalgic tribute t...</td>\n",
       "    </tr>\n",
       "    <tr>\n",
       "      <th>2</th>\n",
       "      <td>638083821364244480</td>\n",
       "      <td>michael jackson</td>\n",
       "      <td>0</td>\n",
       "      <td>Michael Jackson: Bad 25th Anniversary Edition ...</td>\n",
       "    </tr>\n",
       "    <tr>\n",
       "      <th>3</th>\n",
       "      <td>638091450132078593</td>\n",
       "      <td>michael jackson</td>\n",
       "      <td>1</td>\n",
       "      <td>Not Available</td>\n",
       "    </tr>\n",
       "    <tr>\n",
       "      <th>4</th>\n",
       "      <td>638125563790557184</td>\n",
       "      <td>michael jackson</td>\n",
       "      <td>1</td>\n",
       "      <td>18th anniv of Princess Diana's death. I still ...</td>\n",
       "    </tr>\n",
       "  </tbody>\n",
       "</table>\n",
       "</div>"
      ],
      "text/plain": [
       "                    0                1  2  \\\n",
       "0  638060586258038784  michael jackson  0   \n",
       "1  638061181823922176  michael jackson  1   \n",
       "2  638083821364244480  michael jackson  0   \n",
       "3  638091450132078593  michael jackson  1   \n",
       "4  638125563790557184  michael jackson  1   \n",
       "\n",
       "                                                   3  \n",
       "0  05 Beat it - Michael Jackson - Thriller (25th ...  \n",
       "1  Jay Z joins Instagram with nostalgic tribute t...  \n",
       "2  Michael Jackson: Bad 25th Anniversary Edition ...  \n",
       "3                                      Not Available  \n",
       "4  18th anniv of Princess Diana's death. I still ...  "
      ]
     },
     "metadata": {},
     "output_type": "display_data"
    },
    {
     "name": "stdout",
     "output_type": "stream",
     "text": [
      "Data shape: 2000, 4\n",
      "Data per label:\n",
      " 1    933\n",
      " 0    675\n",
      "-1    296\n",
      " 2     53\n",
      "-2     43\n",
      "dtype: int64\n",
      "Valid data shape: 1798, 4\n",
      "Valid data per label:\n",
      " 1    837\n",
      " 0    605\n",
      "-1    275\n",
      " 2     44\n",
      "-2     37\n",
      "dtype: int64\n"
     ]
    },
    {
     "data": {
      "text/html": [
       "<h3>Printing details for file: data/processed/gold/devtest/100_topics_100_tweets.topic-five-point.subtask-CE.devtest.gold.txt</h3>"
      ],
      "text/plain": [
       "<IPython.core.display.HTML object>"
      ]
     },
     "metadata": {},
     "output_type": "display_data"
    },
    {
     "data": {
      "text/html": [
       "<div>\n",
       "<table border=\"1\" class=\"dataframe\">\n",
       "  <thead>\n",
       "    <tr style=\"text-align: right;\">\n",
       "      <th></th>\n",
       "      <th>0</th>\n",
       "      <th>1</th>\n",
       "      <th>2</th>\n",
       "      <th>3</th>\n",
       "    </tr>\n",
       "  </thead>\n",
       "  <tbody>\n",
       "    <tr>\n",
       "      <th>0</th>\n",
       "      <td>637641175948763136</td>\n",
       "      <td>sony</td>\n",
       "      <td>1</td>\n",
       "      <td>Not Available</td>\n",
       "    </tr>\n",
       "    <tr>\n",
       "      <th>1</th>\n",
       "      <td>637651487762554881</td>\n",
       "      <td>sony</td>\n",
       "      <td>0</td>\n",
       "      <td>@PersonaSoda well yeah, that's third parties. ...</td>\n",
       "    </tr>\n",
       "    <tr>\n",
       "      <th>2</th>\n",
       "      <td>637666734300905472</td>\n",
       "      <td>sony</td>\n",
       "      <td>-1</td>\n",
       "      <td>Not Available</td>\n",
       "    </tr>\n",
       "    <tr>\n",
       "      <th>3</th>\n",
       "      <td>637668142110654468</td>\n",
       "      <td>sony</td>\n",
       "      <td>1</td>\n",
       "      <td>@fakethom Have android tab and don't use phone...</td>\n",
       "    </tr>\n",
       "    <tr>\n",
       "      <th>4</th>\n",
       "      <td>637708370129125377</td>\n",
       "      <td>sony</td>\n",
       "      <td>1</td>\n",
       "      <td>Finally I get my ps4 back I sent it to Sony ca...</td>\n",
       "    </tr>\n",
       "  </tbody>\n",
       "</table>\n",
       "</div>"
      ],
      "text/plain": [
       "                    0     1  2  \\\n",
       "0  637641175948763136  sony  1   \n",
       "1  637651487762554881  sony  0   \n",
       "2  637666734300905472  sony -1   \n",
       "3  637668142110654468  sony  1   \n",
       "4  637708370129125377  sony  1   \n",
       "\n",
       "                                                   3  \n",
       "0                                      Not Available  \n",
       "1  @PersonaSoda well yeah, that's third parties. ...  \n",
       "2                                      Not Available  \n",
       "3  @fakethom Have android tab and don't use phone...  \n",
       "4  Finally I get my ps4 back I sent it to Sony ca...  "
      ]
     },
     "metadata": {},
     "output_type": "display_data"
    },
    {
     "name": "stdout",
     "output_type": "stream",
     "text": [
      "Data shape: 2000, 4\n",
      "Data per label:\n",
      " 1    1005\n",
      " 0     583\n",
      "-1     233\n",
      " 2     148\n",
      "-2      31\n",
      "dtype: int64\n",
      "Valid data shape: 1774, 4\n",
      "Valid data per label:\n",
      " 1    882\n",
      " 0    533\n",
      "-1    205\n",
      " 2    125\n",
      "-2     29\n",
      "dtype: int64\n"
     ]
    },
    {
     "data": {
      "text/html": [
       "<h3>Printing details for file: data/processed/gold/train/100_topics_100_tweets.topic-five-point.subtask-CE.train.gold.txt</h3>"
      ],
      "text/plain": [
       "<IPython.core.display.HTML object>"
      ]
     },
     "metadata": {},
     "output_type": "display_data"
    },
    {
     "data": {
      "text/html": [
       "<div>\n",
       "<table border=\"1\" class=\"dataframe\">\n",
       "  <thead>\n",
       "    <tr style=\"text-align: right;\">\n",
       "      <th></th>\n",
       "      <th>0</th>\n",
       "      <th>1</th>\n",
       "      <th>2</th>\n",
       "      <th>3</th>\n",
       "    </tr>\n",
       "  </thead>\n",
       "  <tbody>\n",
       "    <tr>\n",
       "      <th>0</th>\n",
       "      <td>628949369883000832</td>\n",
       "      <td>@microsoft</td>\n",
       "      <td>-1</td>\n",
       "      <td>dear @Microsoft the newOoffice for Mac is grea...</td>\n",
       "    </tr>\n",
       "    <tr>\n",
       "      <th>1</th>\n",
       "      <td>628976607420645377</td>\n",
       "      <td>@microsoft</td>\n",
       "      <td>-2</td>\n",
       "      <td>@Microsoft how about you make a system that do...</td>\n",
       "    </tr>\n",
       "    <tr>\n",
       "      <th>2</th>\n",
       "      <td>629023169169518592</td>\n",
       "      <td>@microsoft</td>\n",
       "      <td>-1</td>\n",
       "      <td>Not Available</td>\n",
       "    </tr>\n",
       "    <tr>\n",
       "      <th>3</th>\n",
       "      <td>629179223232479232</td>\n",
       "      <td>@microsoft</td>\n",
       "      <td>-1</td>\n",
       "      <td>Not Available</td>\n",
       "    </tr>\n",
       "    <tr>\n",
       "      <th>4</th>\n",
       "      <td>629186282179153920</td>\n",
       "      <td>@microsoft</td>\n",
       "      <td>0</td>\n",
       "      <td>If I make a game as a #windows10 Universal App...</td>\n",
       "    </tr>\n",
       "  </tbody>\n",
       "</table>\n",
       "</div>"
      ],
      "text/plain": [
       "                    0           1  2  \\\n",
       "0  628949369883000832  @microsoft -1   \n",
       "1  628976607420645377  @microsoft -2   \n",
       "2  629023169169518592  @microsoft -1   \n",
       "3  629179223232479232  @microsoft -1   \n",
       "4  629186282179153920  @microsoft  0   \n",
       "\n",
       "                                                   3  \n",
       "0  dear @Microsoft the newOoffice for Mac is grea...  \n",
       "1  @Microsoft how about you make a system that do...  \n",
       "2                                      Not Available  \n",
       "3                                      Not Available  \n",
       "4  If I make a game as a #windows10 Universal App...  "
      ]
     },
     "metadata": {},
     "output_type": "display_data"
    },
    {
     "name": "stdout",
     "output_type": "stream",
     "text": [
      "Data shape: 6000, 4\n",
      "Data per label:\n",
      " 1    3154\n",
      " 0    1654\n",
      "-1     668\n",
      " 2     437\n",
      "-2      87\n",
      "dtype: int64\n",
      "Valid data shape: 5366, 4\n",
      "Valid data per label:\n",
      " 1    2827\n",
      " 0    1494\n",
      "-1     597\n",
      " 2     378\n",
      "-2      70\n",
      "dtype: int64\n"
     ]
    }
   ],
   "source": [
    "dev = \"data/processed/gold/dev/100_topics_100_tweets.topic-five-point.subtask-CE.dev.gold.txt\"\n",
    "devtest = \"data/processed/gold/devtest/100_topics_100_tweets.topic-five-point.subtask-CE.devtest.gold.txt\"\n",
    "train = \"data/processed/gold/train/100_topics_100_tweets.topic-five-point.subtask-CE.train.gold.txt\"\n",
    "for filename in [dev, devtest, train]:\n",
    "    display(HTML(\"<h3>Printing details for file: %s</h3>\" % filename))\n",
    "    df = pd.read_csv(filename, header=None, sep=\"\\t\")\n",
    "    display(df.head())\n",
    "    print \"Data shape: %s, %s\" % df.shape\n",
    "    print \"Data per label:\\n%s\" % df[2].value_counts()\n",
    "    df_valid = df[df[3] != \"Not Available\"].copy()\n",
    "    print \"Valid data shape: %s, %s\" % df_valid.shape\n",
    "    print \"Valid data per label:\\n%s\" % df_valid[2].value_counts()"
   ]
  },
  {
   "cell_type": "code",
   "execution_count": null,
   "metadata": {
    "collapsed": true
   },
   "outputs": [],
   "source": []
  }
 ],
 "metadata": {
  "kernelspec": {
   "display_name": "Python 2",
   "language": "python",
   "name": "python2"
  },
  "language_info": {
   "codemirror_mode": {
    "name": "ipython",
    "version": 2
   },
   "file_extension": ".py",
   "mimetype": "text/x-python",
   "name": "python",
   "nbconvert_exporter": "python",
   "pygments_lexer": "ipython2",
   "version": "2.7.6"
  }
 },
 "nbformat": 4,
 "nbformat_minor": 0
}
