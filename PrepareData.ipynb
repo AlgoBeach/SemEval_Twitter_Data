{
 "cells": [
  {
   "cell_type": "code",
   "execution_count": 1,
   "metadata": {
    "collapsed": true
   },
   "outputs": [],
   "source": [
    "import pandas as pd\n",
    "import json\n",
    "import fnmatch\n",
    "import os"
   ]
  },
  {
   "cell_type": "code",
   "execution_count": 2,
   "metadata": {
    "collapsed": false
   },
   "outputs": [
    {
     "name": "stdout",
     "output_type": "stream",
     "text": [
      "['data/2download/gold/devtest/100_topics_XXX_tweets.topic-two-point.subtask-BD.devtest.gold.txt', 'data/2download/gold/devtest/100_topics_100_tweets.topic-five-point.subtask-CE.devtest.gold.txt', 'data/2download/gold/devtest/100_topics_100_tweets.sentence-three-point.subtask-A.devtest.gold.txt', 'data/2download/gold/train/100_topics_100_tweets.topic-five-point.subtask-CE.train.gold.txt', 'data/2download/gold/train/100_topics_XXX_tweets.topic-two-point.subtask-BD.train.gold.txt', 'data/2download/gold/train/100_topics_100_tweets.sentence-three-point.subtask-A.train.gold.txt', 'data/2download/gold/dev/100_topics_100_tweets.sentence-three-point.subtask-A.dev.gold.txt', 'data/2download/gold/dev/100_topics_100_tweets.topic-five-point.subtask-CE.dev.gold.txt', 'data/2download/gold/dev/100_topics_XXX_tweets.topic-two-point.subtask-BD.dev.gold.txt', 'data/2download/input/devtest/100_topics_100_tweets.topic-five-point.subtask-CE.devtest.input.txt', 'data/2download/input/devtest/100_topics_100_tweets.sentence-three-point.subtask-A.devtest.input.txt', 'data/2download/input/devtest/100_topics_XXX_tweets.topic-two-point.subtask-BD.devtest.input.txt']\n",
      "['100_topics_XXX_tweets.topic-two-point.subtask-BD.devtest.gold.txt', '100_topics_100_tweets.topic-five-point.subtask-CE.devtest.gold.txt', '100_topics_100_tweets.sentence-three-point.subtask-A.devtest.gold.txt', '100_topics_100_tweets.topic-five-point.subtask-CE.train.gold.txt', '100_topics_XXX_tweets.topic-two-point.subtask-BD.train.gold.txt', '100_topics_100_tweets.sentence-three-point.subtask-A.train.gold.txt', '100_topics_100_tweets.sentence-three-point.subtask-A.dev.gold.txt', '100_topics_100_tweets.topic-five-point.subtask-CE.dev.gold.txt', '100_topics_XXX_tweets.topic-two-point.subtask-BD.dev.gold.txt', '100_topics_100_tweets.topic-five-point.subtask-CE.devtest.input.txt', '100_topics_100_tweets.sentence-three-point.subtask-A.devtest.input.txt', '100_topics_XXX_tweets.topic-two-point.subtask-BD.devtest.input.txt']\n"
     ]
    }
   ],
   "source": [
    "TWEET_DATA_FILE = \"TWEET_DATA.json\"\n",
    "LABELS_BASE_DIR = \"data/2download\"\n",
    "OUTPUT_DIR = \"data/processed\"\n",
    "FILENAMES = []\n",
    "INPUT_FILES = []\n",
    "for root, dirnames, filenames in os.walk(LABELS_BASE_DIR):\n",
    "    for filename in fnmatch.filter(filenames, '*subtask*.txt'):\n",
    "        FILENAMES.append(filename)\n",
    "        INPUT_FILES.append(os.path.join(root, filename))\n",
    "\n",
    "print INPUT_FILES\n",
    "print FILENAMES"
   ]
  },
  {
   "cell_type": "code",
   "execution_count": 3,
   "metadata": {
    "collapsed": false
   },
   "outputs": [
    {
     "name": "stdout",
     "output_type": "stream",
     "text": [
      "9951\n"
     ]
    }
   ],
   "source": [
    "tweet_data = json.load(open(TWEET_DATA_FILE))\n",
    "print len(tweet_data)"
   ]
  },
  {
   "cell_type": "code",
   "execution_count": 4,
   "metadata": {
    "collapsed": true
   },
   "outputs": [],
   "source": [
    "df = pd.read_csv(INPUT_FILES[0], sep=\"\\t\", header=None)"
   ]
  },
  {
   "cell_type": "code",
   "execution_count": 5,
   "metadata": {
    "collapsed": false
   },
   "outputs": [
    {
     "data": {
      "text/html": [
       "<div>\n",
       "<table border=\"1\" class=\"dataframe\">\n",
       "  <thead>\n",
       "    <tr style=\"text-align: right;\">\n",
       "      <th></th>\n",
       "      <th>tid</th>\n",
       "      <th>1</th>\n",
       "      <th>2</th>\n",
       "    </tr>\n",
       "  </thead>\n",
       "  <tbody>\n",
       "    <tr>\n",
       "      <th>0</th>\n",
       "      <td>637641175948763136</td>\n",
       "      <td>sony</td>\n",
       "      <td>positive</td>\n",
       "    </tr>\n",
       "    <tr>\n",
       "      <th>1</th>\n",
       "      <td>637666734300905472</td>\n",
       "      <td>sony</td>\n",
       "      <td>negative</td>\n",
       "    </tr>\n",
       "    <tr>\n",
       "      <th>2</th>\n",
       "      <td>637668142110654468</td>\n",
       "      <td>sony</td>\n",
       "      <td>positive</td>\n",
       "    </tr>\n",
       "    <tr>\n",
       "      <th>3</th>\n",
       "      <td>637708370129125377</td>\n",
       "      <td>sony</td>\n",
       "      <td>positive</td>\n",
       "    </tr>\n",
       "    <tr>\n",
       "      <th>4</th>\n",
       "      <td>637807521500020737</td>\n",
       "      <td>sony</td>\n",
       "      <td>negative</td>\n",
       "    </tr>\n",
       "  </tbody>\n",
       "</table>\n",
       "</div>"
      ],
      "text/plain": [
       "                  tid     1         2\n",
       "0  637641175948763136  sony  positive\n",
       "1  637666734300905472  sony  negative\n",
       "2  637668142110654468  sony  positive\n",
       "3  637708370129125377  sony  positive\n",
       "4  637807521500020737  sony  negative"
      ]
     },
     "execution_count": 5,
     "metadata": {},
     "output_type": "execute_result"
    }
   ],
   "source": [
    "cols = df.columns.tolist()\n",
    "cols[0] = \"tid\"\n",
    "df.columns = cols\n",
    "df.head()"
   ]
  },
  {
   "cell_type": "code",
   "execution_count": 6,
   "metadata": {
    "collapsed": true
   },
   "outputs": [],
   "source": [
    "def add_tweet(x):\n",
    "    x = \"%s\" % x\n",
    "    try:\n",
    "        return tweet_data.get(x, {\"text\": \"Not Available\"})[\"text\"].replace(\"\\n\", \" \").replace(\"\\r\", \" \")\n",
    "    except:\n",
    "        print x\n",
    "        raise"
   ]
  },
  {
   "cell_type": "code",
   "execution_count": 7,
   "metadata": {
    "collapsed": false
   },
   "outputs": [
    {
     "data": {
      "text/html": [
       "<div>\n",
       "<table border=\"1\" class=\"dataframe\">\n",
       "  <thead>\n",
       "    <tr style=\"text-align: right;\">\n",
       "      <th></th>\n",
       "      <th>tid</th>\n",
       "      <th>1</th>\n",
       "      <th>2</th>\n",
       "      <th>text</th>\n",
       "    </tr>\n",
       "  </thead>\n",
       "  <tbody>\n",
       "    <tr>\n",
       "      <th>0</th>\n",
       "      <td>637641175948763136</td>\n",
       "      <td>sony</td>\n",
       "      <td>positive</td>\n",
       "      <td>Not Available</td>\n",
       "    </tr>\n",
       "    <tr>\n",
       "      <th>1</th>\n",
       "      <td>637666734300905472</td>\n",
       "      <td>sony</td>\n",
       "      <td>negative</td>\n",
       "      <td>Not Available</td>\n",
       "    </tr>\n",
       "    <tr>\n",
       "      <th>2</th>\n",
       "      <td>637668142110654468</td>\n",
       "      <td>sony</td>\n",
       "      <td>positive</td>\n",
       "      <td>@fakethom Have android tab and don't use phone...</td>\n",
       "    </tr>\n",
       "    <tr>\n",
       "      <th>3</th>\n",
       "      <td>637708370129125377</td>\n",
       "      <td>sony</td>\n",
       "      <td>positive</td>\n",
       "      <td>Finally I get my ps4 back I sent it to Sony ca...</td>\n",
       "    </tr>\n",
       "    <tr>\n",
       "      <th>4</th>\n",
       "      <td>637807521500020737</td>\n",
       "      <td>sony</td>\n",
       "      <td>negative</td>\n",
       "      <td>Not Available</td>\n",
       "    </tr>\n",
       "  </tbody>\n",
       "</table>\n",
       "</div>"
      ],
      "text/plain": [
       "                  tid     1         2  \\\n",
       "0  637641175948763136  sony  positive   \n",
       "1  637666734300905472  sony  negative   \n",
       "2  637668142110654468  sony  positive   \n",
       "3  637708370129125377  sony  positive   \n",
       "4  637807521500020737  sony  negative   \n",
       "\n",
       "                                                text  \n",
       "0                                      Not Available  \n",
       "1                                      Not Available  \n",
       "2  @fakethom Have android tab and don't use phone...  \n",
       "3  Finally I get my ps4 back I sent it to Sony ca...  \n",
       "4                                      Not Available  "
      ]
     },
     "execution_count": 7,
     "metadata": {},
     "output_type": "execute_result"
    }
   ],
   "source": [
    "df[\"text\"] = df[\"tid\"].apply(add_tweet)\n",
    "df.head()"
   ]
  },
  {
   "cell_type": "code",
   "execution_count": 8,
   "metadata": {
    "collapsed": true
   },
   "outputs": [],
   "source": [
    "df.to_csv(\"%s/%s\" % (OUTPUT_DIR, FILENAMES[0]), sep=\"\\t\", header=None, index=False)"
   ]
  },
  {
   "cell_type": "code",
   "execution_count": 23,
   "metadata": {
    "collapsed": true
   },
   "outputs": [],
   "source": [
    "def append_tweets(input_file, output_file):\n",
    "    df = pd.read_csv(input_file, sep=\"\\t\", header=None)\n",
    "    cols = df.columns.tolist()\n",
    "    cols[0] = \"tid\"\n",
    "    df.columns = cols\n",
    "    df[\"text\"] = df[\"tid\"].apply(add_tweet)\n",
    "    df.to_csv(output_file, sep=\"\\t\", header=None, index=False)\n",
    "    print \"Wrote dataframe with shape: \", df.shape"
   ]
  },
  {
   "cell_type": "code",
   "execution_count": 10,
   "metadata": {
    "collapsed": false
   },
   "outputs": [],
   "source": [
    "append_tweets(INPUT_FILES[0], \"%s/%s\" % (OUTPUT_DIR, FILENAMES[0]))"
   ]
  },
  {
   "cell_type": "code",
   "execution_count": 24,
   "metadata": {
    "collapsed": false
   },
   "outputs": [
    {
     "name": "stdout",
     "output_type": "stream",
     "text": [
      "Processing data/2download/gold/devtest/100_topics_XXX_tweets.topic-two-point.subtask-BD.devtest.gold.txt, saving to data/processed/100_topics_XXX_tweets.topic-two-point.subtask-BD.devtest.gold.txt\n",
      "Wrote dataframe with shape:  (1417, 4)\n",
      "Processing data/2download/gold/devtest/100_topics_100_tweets.topic-five-point.subtask-CE.devtest.gold.txt, saving to data/processed/100_topics_100_tweets.topic-five-point.subtask-CE.devtest.gold.txt\n",
      "Wrote dataframe with shape:  (2000, 4)\n",
      "Processing data/2download/gold/devtest/100_topics_100_tweets.sentence-three-point.subtask-A.devtest.gold.txt, saving to data/processed/100_topics_100_tweets.sentence-three-point.subtask-A.devtest.gold.txt\n",
      "Wrote dataframe with shape:  (2000, 3)\n",
      "Processing data/2download/gold/train/100_topics_100_tweets.topic-five-point.subtask-CE.train.gold.txt, saving to data/processed/100_topics_100_tweets.topic-five-point.subtask-CE.train.gold.txt\n",
      "Wrote dataframe with shape:  (6000, 4)\n",
      "Processing data/2download/gold/train/100_topics_XXX_tweets.topic-two-point.subtask-BD.train.gold.txt, saving to data/processed/100_topics_XXX_tweets.topic-two-point.subtask-BD.train.gold.txt\n",
      "Wrote dataframe with shape:  (4346, 4)\n",
      "Processing data/2download/gold/train/100_topics_100_tweets.sentence-three-point.subtask-A.train.gold.txt, saving to data/processed/100_topics_100_tweets.sentence-three-point.subtask-A.train.gold.txt\n",
      "Wrote dataframe with shape:  (6000, 3)\n",
      "Processing data/2download/gold/dev/100_topics_100_tweets.sentence-three-point.subtask-A.dev.gold.txt, saving to data/processed/100_topics_100_tweets.sentence-three-point.subtask-A.dev.gold.txt\n",
      "Wrote dataframe with shape:  (2000, 3)\n",
      "Processing data/2download/gold/dev/100_topics_100_tweets.topic-five-point.subtask-CE.dev.gold.txt, saving to data/processed/100_topics_100_tweets.topic-five-point.subtask-CE.dev.gold.txt\n",
      "Wrote dataframe with shape:  (2000, 4)\n",
      "Processing data/2download/gold/dev/100_topics_XXX_tweets.topic-two-point.subtask-BD.dev.gold.txt, saving to data/processed/100_topics_XXX_tweets.topic-two-point.subtask-BD.dev.gold.txt\n",
      "Wrote dataframe with shape:  (1325, 4)\n",
      "Processing data/2download/input/devtest/100_topics_100_tweets.topic-five-point.subtask-CE.devtest.input.txt, saving to data/processed/100_topics_100_tweets.topic-five-point.subtask-CE.devtest.input.txt\n",
      "Wrote dataframe with shape:  (2000, 3)\n",
      "Processing data/2download/input/devtest/100_topics_100_tweets.sentence-three-point.subtask-A.devtest.input.txt, saving to data/processed/100_topics_100_tweets.sentence-three-point.subtask-A.devtest.input.txt\n",
      "Wrote dataframe with shape:  (2000, 2)\n",
      "Processing data/2download/input/devtest/100_topics_XXX_tweets.topic-two-point.subtask-BD.devtest.input.txt, saving to data/processed/100_topics_XXX_tweets.topic-two-point.subtask-BD.devtest.input.txt\n",
      "Wrote dataframe with shape:  (1417, 3)\n"
     ]
    }
   ],
   "source": [
    "for input_file, output_file in zip(INPUT_FILES, [\"%s/%s\" % (OUTPUT_DIR, k) for k in FILENAMES]):\n",
    "    print \"Processing %s, saving to %s\" % (input_file, output_file)\n",
    "    append_tweets(input_file, output_file)"
   ]
  },
  {
   "cell_type": "code",
   "execution_count": 25,
   "metadata": {
    "collapsed": false
   },
   "outputs": [
    {
     "data": {
      "text/plain": [
       "(12, 12)"
      ]
     },
     "execution_count": 25,
     "metadata": {},
     "output_type": "execute_result"
    }
   ],
   "source": [
    "len(INPUT_FILES), len(FILENAMES)"
   ]
  },
  {
   "cell_type": "code",
   "execution_count": 26,
   "metadata": {
    "collapsed": false
   },
   "outputs": [
    {
     "data": {
      "text/plain": [
       "12"
      ]
     },
     "execution_count": 26,
     "metadata": {},
     "output_type": "execute_result"
    }
   ],
   "source": [
    "len(zip(INPUT_FILES, [\"%s/%s\" % (OUTPUT_DIR, k) for k in FILENAMES]))"
   ]
  },
  {
   "cell_type": "code",
   "execution_count": 27,
   "metadata": {
    "collapsed": false
   },
   "outputs": [
    {
     "name": "stdout",
     "output_type": "stream",
     "text": [
      "gold\n",
      "input\n"
     ]
    }
   ],
   "source": [
    "%%bash\n",
    "cd data/processed/\n",
    "mkdir -p gold/{dev,devtest,train} input/devtest\n",
    "mv *.dev.gold.txt gold/dev\n",
    "mv *.devtest.gold.txt gold/devtest/\n",
    "mv *.train.gold.txt gold/train/\n",
    "mv *.devtest.input.txt input/devtest/\n",
    "ls"
   ]
  },
  {
   "cell_type": "code",
   "execution_count": 28,
   "metadata": {
    "collapsed": false
   },
   "outputs": [
    {
     "name": "stdout",
     "output_type": "stream",
     "text": [
      "./gold/devtest/100_topics_XXX_tweets.topic-two-point.subtask-BD.devtest.gold.txt\n",
      "./gold/devtest/100_topics_100_tweets.topic-five-point.subtask-CE.devtest.gold.txt\n",
      "./gold/devtest/100_topics_100_tweets.sentence-three-point.subtask-A.devtest.gold.txt\n",
      "./gold/train/100_topics_100_tweets.topic-five-point.subtask-CE.train.gold.txt\n",
      "./gold/train/100_topics_XXX_tweets.topic-two-point.subtask-BD.train.gold.txt\n",
      "./gold/train/100_topics_100_tweets.sentence-three-point.subtask-A.train.gold.txt\n",
      "./gold/dev/100_topics_100_tweets.sentence-three-point.subtask-A.dev.gold.txt\n",
      "./gold/dev/100_topics_100_tweets.topic-five-point.subtask-CE.dev.gold.txt\n",
      "./gold/dev/100_topics_XXX_tweets.topic-two-point.subtask-BD.dev.gold.txt\n",
      "./input/devtest/100_topics_100_tweets.topic-five-point.subtask-CE.devtest.input.txt\n",
      "./input/devtest/100_topics_100_tweets.sentence-three-point.subtask-A.devtest.input.txt\n",
      "./input/devtest/100_topics_XXX_tweets.topic-two-point.subtask-BD.devtest.input.txt\n"
     ]
    }
   ],
   "source": [
    "%%bash\n",
    "cd data/processed/\n",
    "find ./ -name \"*.txt\""
   ]
  },
  {
   "cell_type": "code",
   "execution_count": null,
   "metadata": {
    "collapsed": true
   },
   "outputs": [],
   "source": []
  }
 ],
 "metadata": {
  "kernelspec": {
   "display_name": "Python 2",
   "language": "python",
   "name": "python2"
  },
  "language_info": {
   "codemirror_mode": {
    "name": "ipython",
    "version": 2
   },
   "file_extension": ".py",
   "mimetype": "text/x-python",
   "name": "python",
   "nbconvert_exporter": "python",
   "pygments_lexer": "ipython2",
   "version": "2.7.6"
  }
 },
 "nbformat": 4,
 "nbformat_minor": 0
}
