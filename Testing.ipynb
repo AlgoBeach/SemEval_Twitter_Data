{
 "cells": [
  {
   "cell_type": "markdown",
   "metadata": {},
   "source": [
    "# Measuring importance of coefficients of OLS\n",
    "\n",
    "$s^2 = \\frac{y^TMy}{n -p} = \\frac{y^T(y - X\\hat{\\beta})}{n -p}$\n",
    "\n",
    "$s.e.(\\hat{\\beta_{j}}) = \\sqrt{s^2(X^TX)^{-1}_{jj}}$\n",
    "\n",
    "$t = \\frac{\\hat{\\beta}}{s.e.(\\hat{\\beta})}$\n",
    "\n",
    "$p = SF(|t|, n-p) * 2$\n",
    "\n",
    "$c.i. = PPF((1 + confidence)/2, n-p)$\n"
   ]
  },
  {
   "cell_type": "code",
   "execution_count": 1,
   "metadata": {
    "collapsed": false
   },
   "outputs": [],
   "source": [
    "import numpy as np\n",
    "import statsmodels.api as sm\n",
    "import pandas as pd\n",
    "from scipy import stats\n",
    "pd.options.display.float_format = '{:,.4f}'.format"
   ]
  },
  {
   "cell_type": "code",
   "execution_count": 2,
   "metadata": {
    "collapsed": false
   },
   "outputs": [
    {
     "name": "stdout",
     "output_type": "stream",
     "text": [
      "(100, 4) (100,) (4,)\n"
     ]
    }
   ],
   "source": [
    "X = sm.add_constant(np.random.randn(100,3)*10)\n",
    "w = np.array([0.25, 0.1, 0.3, -1.5])\n",
    "y = np.dot(X,w) + np.random.randn(X.shape[0])\n",
    "print X.shape, y.shape, w.shape"
   ]
  },
  {
   "cell_type": "code",
   "execution_count": 3,
   "metadata": {
    "collapsed": false
   },
   "outputs": [
    {
     "name": "stdout",
     "output_type": "stream",
     "text": [
      "            Results: Ordinary least squares\n",
      "=======================================================\n",
      "Model:              OLS   AIC:                297.7558 \n",
      "Dependent Variable: y     BIC:                308.1765 \n",
      "No. Observations:   100   Log-Likelihood:     -144.88  \n",
      "Df Model:           3     F-statistic:        7662.    \n",
      "Df Residuals:       96    Prob (F-statistic): 4.06e-114\n",
      "R-squared:          0.996 Scale:              1.1057   \n",
      "Adj. R-squared:     0.996                              \n",
      "-------------------------------------------------------\n",
      "       Coef.  Std.Err.     t     P>|t|   [0.025  0.975]\n",
      "-------------------------------------------------------\n",
      "const  0.3729   0.1060    3.5167 0.0007  0.1624  0.5834\n",
      "x1     0.0833   0.0108    7.6968 0.0000  0.0618  0.1048\n",
      "x2     0.2898   0.0113   25.5539 0.0000  0.2673  0.3123\n",
      "x3    -1.5043   0.0101 -149.0287 0.0000 -1.5243 -1.4842\n",
      "-------------------------------------------------------\n",
      "Omnibus:            0.005    Durbin-Watson:       1.747\n",
      "Prob(Omnibus):      0.997    Jarque-Bera (JB):    0.050\n",
      "Skew:               0.005    Prob(JB):            0.976\n",
      "Kurtosis:           2.891    Condition No.:       11   \n",
      "=======================================================\n",
      "\n"
     ]
    }
   ],
   "source": [
    "model = sm.OLS(y, X)\n",
    "res = model.fit()\n",
    "print res.summary2()"
   ]
  },
  {
   "cell_type": "code",
   "execution_count": 4,
   "metadata": {
    "collapsed": true
   },
   "outputs": [],
   "source": [
    "def R2(y, X, coeffs):\n",
    "    y_hat = np.dot(X, coeffs)\n",
    "    y_mean = np.mean(y)\n",
    "    SST = np.sum((y-y_mean)**2)\n",
    "    SSR = np.sum((y_hat - y_mean)**2)\n",
    "    SSE = np.sum((y_hat - y)**2)\n",
    "    #R_squared = SSR / SST\n",
    "    R_squared = SSE / SST\n",
    "    return 1- R_squared"
   ]
  },
  {
   "cell_type": "code",
   "execution_count": 5,
   "metadata": {
    "collapsed": false
   },
   "outputs": [
    {
     "data": {
      "text/plain": [
       "0.9958407589373941"
      ]
     },
     "execution_count": 5,
     "metadata": {},
     "output_type": "execute_result"
    }
   ],
   "source": [
    "R2(y, X, res.params)"
   ]
  },
  {
   "cell_type": "code",
   "execution_count": 6,
   "metadata": {
    "collapsed": false
   },
   "outputs": [],
   "source": [
    "def se_coeff(y, X, coeffs):\n",
    "    # Reference: https://en.wikipedia.org/wiki/Ordinary_least_squares#Finite_sample_properties\n",
    "    s2 = np.dot(y, y - np.dot(X, coeffs)) / (X.shape[0] - X.shape[1]) # Calculate S-squared\n",
    "    XX = np.diag(np.linalg.inv(np.dot(X.T, X))) # Calculate \n",
    "    return np.sqrt(s2*XX)"
   ]
  },
  {
   "cell_type": "code",
   "execution_count": 7,
   "metadata": {
    "collapsed": false
   },
   "outputs": [
    {
     "data": {
      "text/html": [
       "<div>\n",
       "<table border=\"1\" class=\"dataframe\">\n",
       "  <thead>\n",
       "    <tr style=\"text-align: right;\">\n",
       "      <th></th>\n",
       "      <th>coeff</th>\n",
       "      <th>S.E.</th>\n",
       "      <th>t</th>\n",
       "      <th>p-value</th>\n",
       "      <th>ci-</th>\n",
       "      <th>ci+</th>\n",
       "    </tr>\n",
       "  </thead>\n",
       "  <tbody>\n",
       "    <tr>\n",
       "      <th>0</th>\n",
       "      <td>0.3729</td>\n",
       "      <td>0.1060</td>\n",
       "      <td>3.5167</td>\n",
       "      <td>0.0007</td>\n",
       "      <td>0.1624</td>\n",
       "      <td>0.5834</td>\n",
       "    </tr>\n",
       "    <tr>\n",
       "      <th>1</th>\n",
       "      <td>0.0833</td>\n",
       "      <td>0.0108</td>\n",
       "      <td>7.6968</td>\n",
       "      <td>0.0000</td>\n",
       "      <td>0.0618</td>\n",
       "      <td>0.1048</td>\n",
       "    </tr>\n",
       "    <tr>\n",
       "      <th>2</th>\n",
       "      <td>0.2898</td>\n",
       "      <td>0.0113</td>\n",
       "      <td>25.5539</td>\n",
       "      <td>0.0000</td>\n",
       "      <td>0.2673</td>\n",
       "      <td>0.3123</td>\n",
       "    </tr>\n",
       "    <tr>\n",
       "      <th>3</th>\n",
       "      <td>-1.5043</td>\n",
       "      <td>0.0101</td>\n",
       "      <td>-149.0287</td>\n",
       "      <td>0.0000</td>\n",
       "      <td>-1.5243</td>\n",
       "      <td>-1.4842</td>\n",
       "    </tr>\n",
       "  </tbody>\n",
       "</table>\n",
       "</div>"
      ],
      "text/plain": [
       "    coeff   S.E.         t  p-value     ci-     ci+\n",
       "0  0.3729 0.1060    3.5167   0.0007  0.1624  0.5834\n",
       "1  0.0833 0.0108    7.6968   0.0000  0.0618  0.1048\n",
       "2  0.2898 0.0113   25.5539   0.0000  0.2673  0.3123\n",
       "3 -1.5043 0.0101 -149.0287   0.0000 -1.5243 -1.4842"
      ]
     },
     "execution_count": 7,
     "metadata": {},
     "output_type": "execute_result"
    }
   ],
   "source": [
    "coeffs = res.params\n",
    "N, K = X.shape\n",
    "se = se_coeff(y, X, coeffs)\n",
    "t = coeffs / se\n",
    "p = stats.t.sf(np.abs(t), N - K)*2\n",
    "ci = stats.t.ppf((1 + 0.95)/2, N-K)*se\n",
    "pd.DataFrame(np.vstack((coeffs, se, t, p, coeffs - ci, coeffs + ci)).T, columns=[\"coeff\", \"S.E.\", \"t\", \"p-value\", \"ci-\", \"ci+\"])\n"
   ]
  },
  {
   "cell_type": "code",
   "execution_count": null,
   "metadata": {
    "collapsed": true
   },
   "outputs": [],
   "source": []
  }
 ],
 "metadata": {
  "kernelspec": {
   "display_name": "Python 2",
   "language": "python",
   "name": "python2"
  },
  "language_info": {
   "codemirror_mode": {
    "name": "ipython",
    "version": 2
   },
   "file_extension": ".py",
   "mimetype": "text/x-python",
   "name": "python",
   "nbconvert_exporter": "python",
   "pygments_lexer": "ipython2",
   "version": "2.7.6"
  }
 },
 "nbformat": 4,
 "nbformat_minor": 0
}
